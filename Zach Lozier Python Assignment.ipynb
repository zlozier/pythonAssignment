{
 "cells": [
  {
   "cell_type": "markdown",
   "metadata": {},
   "source": [
    "# Dr. X's Code\n",
    "\n",
    "Dr. X says his function \"gets sequences.\" I have (tried) documented his funciton more carefully below."
   ]
  },
  {
   "cell_type": "code",
   "execution_count": 1,
   "metadata": {},
   "outputs": [],
   "source": [
    "from Bio import SeqIO\n",
    "from Bio import Seq\n",
    "from Bio.Data import CodonTable\n",
    "from Bio.SeqUtils.ProtParam import ProteinAnalysis\n",
    "import pandas as pd\n",
    "import matplotlib.pyplot as plt\n",
    "%matplotlib inline\n",
    "import seaborn as sns"
   ]
  },
  {
   "cell_type": "markdown",
   "metadata": {},
   "source": [
    "## Function `get_sequences_from_file(fasta_fn)`\n",
    "\n",
    "**Description:** Takes as input a fasta file and stores the entries as Seq objects in a dictionary data object where the species names are the keys and the Seq objects are the values.  \n",
    "\n",
    "**Parameters:**  \n",
    "+  `fasta_fn`: fasta file to be opened as a string   \n",
    "\n",
    "**Return:** a dictionary where keys are the species names and the values are the Seq objects  \n",
    "\n",
    "**Example Usage:**  \n",
    "```python\n",
    ">>> get_sequences_from_file('/example/fasta/file.fasta')\n",
    "```    \n",
    "**Output:**  \n",
    "```python\n",
    "{'Example species1': Seq('ACGTACGTACGT', SingleLetterAlphabet()),\n",
    " 'Example species2': Seq('TGCATGCA', SingleLetterAlphabet())}\n",
    "```"
   ]
  },
  {
   "cell_type": "code",
   "execution_count": 2,
   "metadata": {},
   "outputs": [],
   "source": [
    "def get_sequences_from_file(fasta_fn):\n",
    "    \"\"\"Description: Takes as input a fasta file and stores the entries as Seq objects in a dictionary data object where the species names are the keys and the Seq objects are the values.\n",
    "    \n",
    "    Parameters:\n",
    "        fasta_fn : fasta file to be opened, as a string\n",
    "        \n",
    "    Return: a dictionary where keys are the species names and the values are the Seq objects\n",
    "    \n",
    "    Example of usage:\n",
    "        >> get_sequences_from_file('/example/fasta/file.fasta')\n",
    "        \n",
    "        Output:\n",
    "            {'Example species1': Seq('ACGTACGTACGT', SingleLetterAlphabet()),\n",
    "             'Example species2': Seq('TGCATGCA', SingleLetterAlphabet())}\n",
    "    \"\"\"\n",
    "    sequence_data_dict = {}\n",
    "    for record in SeqIO.parse(fasta_fn, \"fasta\"):\n",
    "        description = record.description.split()\n",
    "        species_name = description[1] + \" \" + description[2]\n",
    "        sequence_data_dict[species_name] = record.seq\n",
    "    return(sequence_data_dict)"
   ]
  },
  {
   "cell_type": "markdown",
   "metadata": {},
   "source": [
    "### The output of Dr. X's function:"
   ]
  },
  {
   "cell_type": "code",
   "execution_count": 3,
   "metadata": {
    "scrolled": false
   },
   "outputs": [
    {
     "data": {
      "text/plain": [
       "{'Aptenodytes forsteri': Seq('ATGGCCCCAAATCTCCGAAAATCCCATCCCCTCCTAAAAATAATTAATAACTCC...TAA', SingleLetterAlphabet()),\n",
       " 'Aptenodytes patagonicus': Seq('ATGGCCCCAAACCTCCGAAAATCCCATCCTCTCCTAAAAATAATTAATAACTCC...TAA', SingleLetterAlphabet()),\n",
       " 'Eudyptes chrysocome': Seq('ATGGCCCCCAACCTCCGAAAATCCCACCCCCTCCTAAAAACAATCAATAACTCC...TAA', SingleLetterAlphabet()),\n",
       " 'Eudyptes chrysolophus': Seq('ATGGCCCCCAACCTCCGAAAATCCCACCCCCTCCTAAAAACAATCAATAACTCC...TAA', SingleLetterAlphabet()),\n",
       " 'Eudyptes sclateri': Seq('ATGGCCCCCAACCTCCGAAAATCCCACCCCCTCCTAAAAACAATCAATAACTCC...TAA', SingleLetterAlphabet()),\n",
       " 'Eudyptula minor': Seq('ATGGCCCCCAACCTCCGAAAATCTCACCCCCTCCTAAAAATAATCAACAACTCT...TAA', SingleLetterAlphabet()),\n",
       " 'Pygoscelis adeliae': Seq('ATGGCCCCCAACCTCCGAAAATCCCACCCTCTCCTAAAAATAATTAACAACTCC...TAA', SingleLetterAlphabet()),\n",
       " 'Pygoscelis antarctica': Seq('ATGGCCCCCAACCTCCGAAAATCCCACCCTCTCCTAAAAATAATCAACAACTCC...TAG', SingleLetterAlphabet()),\n",
       " 'Pygoscelis papua': Seq('ATGGCCCCCAACCTTCGAAAATCCCACCCTCTCCTAAAAATAATCAACAAATCC...TAG', SingleLetterAlphabet()),\n",
       " 'Spheniscus demersus': Seq('ATGGCCCCCAACCTCCGAAAATCCCACCCTCTCCTAAAAACAATCAACAACTCC...TAA', SingleLetterAlphabet()),\n",
       " 'Spheniscus humboldti': Seq('ATGGCCCCCAACCTCCGAAAATCCCACCCTCTCCTAAAAACAATCAACAACTCC...TAA', SingleLetterAlphabet()),\n",
       " 'Spheniscus magellanicus': Seq('ATGGCCCCCAACCTCCGAAAATCCCACCCTCTCCTAAAAACAATCAACAACTCC...TAA', SingleLetterAlphabet())}"
      ]
     },
     "execution_count": 3,
     "metadata": {},
     "output_type": "execute_result"
    }
   ],
   "source": [
    "get_sequences_from_file(\"penguins_cytb.fasta\")"
   ]
  },
  {
   "cell_type": "markdown",
   "metadata": {},
   "source": [
    "# My Functions"
   ]
  },
  {
   "cell_type": "markdown",
   "metadata": {},
   "source": [
    "## Function `translate_function(string_nucleotides)`\n",
    "\n",
    "**Description:** Translates a given string of nucleotides to an amino acid sequence.    \n",
    "**Parameters:**  \n",
    "+ `string_nucleotides`: string of nucleotides to be translated  \n",
    "\n",
    "**Return:** a string of amino acids  \n",
    "\n",
    "**Example Usage:**  \n",
    "```python\n",
    ">>> example_nucleotides = \"ATGTTTGGGAAACCCAGA\"\n",
    ">>> translate_function(example_nucleotides)\n",
    "```    \n",
    "**Output:**  \n",
    "```python\n",
    "'MFGKP'\n",
    "```"
   ]
  },
  {
   "cell_type": "code",
   "execution_count": 4,
   "metadata": {},
   "outputs": [],
   "source": [
    "def translate_function(string_nucleotides):\n",
    "    \"\"\"Description: Translates a given string of nucleotides to an amino acid sequence\n",
    "    \n",
    "    Parameters:\n",
    "        string_nucleotides : string of nucleotides to be translated\n",
    "        \n",
    "    Return: a string of amino acids\n",
    "    \n",
    "    Example of usage:\n",
    "        >> example_nucleotides = \"ATGTTTGGGAAACCCAGA\"\n",
    "        >> translate_function(example_nucleotides)\n",
    "        \n",
    "        Ouput:\n",
    "            'MFGKP'\n",
    "    \"\"\"\n",
    "    mito_table = CodonTable.unambiguous_dna_by_name[\"Vertebrate Mitochondrial\"]\n",
    "    codon_p1 = 0\n",
    "    codon_p2 = 1\n",
    "    codon_p3 = 3\n",
    "    aa_seq_string = \"\"\n",
    "    for codon in string_nucleotides:\n",
    "        codon = string_nucleotides[codon_p1:codon_p3]\n",
    "        if any(codon in stopCodons for stopCodons in mito_table.stop_codons): #checks if the current codon is a stop codon\n",
    "            return (aa_seq_string) #returns the current amino acid sequence if a stop codon is encountered\n",
    "        elif codon_p1 == 0 and any(codon in startCodons for startCodons in mito_table.start_codons)==False: #checks if the current codon is the first codon and that the first codon is an actual start codon\n",
    "            return (print(\"The first codon is not a start codon!\"))\n",
    "        else:\n",
    "            current_aa = mito_table.forward_table[codon] #retrieves the amino acid translation of the current codon\n",
    "            aa_seq_string += current_aa\n",
    "            codon_p1 += 3\n",
    "            codon_p2 += 3\n",
    "            codon_p3 += 3\n",
    "    return(aa_seq_string)"
   ]
  },
  {
   "cell_type": "markdown",
   "metadata": {},
   "source": [
    "## Function `alt_translate_function(string_nucleotides)`\n",
    "\n",
    "**Description:** Translates a given string of nucleotides to an amino acid sequence.    \n",
    "**Parameters:**\n",
    "+  `string_nucleotides`: string of nucleotides to be translated\n",
    "  \n",
    "**Return:** a string of amino acids\n",
    "  \n",
    "**Example Usage:**  \n",
    "```python\n",
    ">>> example_nucleotides = \"ATGTTTGGGAAACCCAGA\"\n",
    ">>> translate_function(example_nucleotides)\n",
    "```    \n",
    "**Output:**  \n",
    "```python\n",
    "'MFGKP'\n",
    "```"
   ]
  },
  {
   "cell_type": "code",
   "execution_count": 5,
   "metadata": {},
   "outputs": [],
   "source": [
    "def alt_translate_funciton(string_nucleotides):\n",
    "    \"\"\"Description: Translates a given string of nucleotides to an amino acid sequence\n",
    "    \n",
    "    Parameters:\n",
    "        string_nucleotides : string of nucleotides to be translated\n",
    "        \n",
    "    Return: a string of amino acids\n",
    "    \n",
    "    Example of usage:\n",
    "        >> example_nucleotides = \"ATGTTTGGGAAACCCAGA\"\n",
    "        >> alt_translate_function(example_nucleotides)\n",
    "        \n",
    "        Ouput:\n",
    "            'MFGKP'\n",
    "    \"\"\"\n",
    "    mito_table = CodonTable.unambiguous_dna_by_name[\"Vertebrate Mitochondrial\"]\n",
    "    \n",
    "    #Uses the _translate_str() function from the Seq package to translate the given string.\n",
    "    aa_seq_string = Seq._translate_str(string_nucleotides, table=mito_table, stop_symbol='', to_stop=True,cds=True,)\n",
    "    return (aa_seq_string)"
   ]
  },
  {
   "cell_type": "markdown",
   "metadata": {},
   "source": [
    "## Function `compute_molecular_weight(aa_seq)`\n",
    "\n",
    "**Description:** calculates the molecular weight of a given amino acid sequence in Daltons.    \n",
    "**Parameters:**\n",
    "+  `aa_seq` : string of amino acids to be measured\n",
    "  \n",
    "**Return:** weight in Daltons of provided amino acid sequence as a floating point number\n",
    "  \n",
    "**Example Usage:**  \n",
    "```python\n",
    ">>> example_amino_acid_string = \"MFGKP\"\n",
    ">>> compute_molecular_weight(example_amino_acid_string)\n",
    "```    \n",
    "**Output:**  \n",
    "```python\n",
    "578.7239\n",
    "```"
   ]
  },
  {
   "cell_type": "code",
   "execution_count": 6,
   "metadata": {},
   "outputs": [],
   "source": [
    "def compute_molecular_weight(aa_seq):\n",
    "    \"\"\"Description: calculates the molecular weight of a given amino acid sequence in Daltons.\n",
    "    \n",
    "    Parameters:\n",
    "        aa_seq : string of amino acids to be measured\n",
    "        \n",
    "    Return: weight in Daltons of provided amino acid sequence as a floating point number\n",
    "    \n",
    "    Example of usage:\n",
    "        >> example_amino_acid_string = \"MFGKP\"\n",
    "        >> compute_molecular_weight(example_amino_acid_string)\n",
    "        \n",
    "        Ouput:\n",
    "            578.7239\n",
    "    \"\"\"\n",
    "    return (ProteinAnalysis(aa_seq).molecular_weight())"
   ]
  },
  {
   "cell_type": "markdown",
   "metadata": {},
   "source": [
    "## Function `gc_content(string_nucleotides)`\n",
    "\n",
    "**Description:** calculates the GC content of a given nucleotide sequence percent.    \n",
    "**Parameters:**\n",
    "+  `string_nucleotides` : string of nucleotides to be measured\n",
    "  \n",
    "**Return:** percent GC of provided nucleotide sequence as a floating point number\n",
    "  \n",
    "**Example Usage:**  \n",
    "```python\n",
    ">>> example_nucleotide_string = \"ATGTTTGGGAAACCCAGA\"\n",
    ">>> gc_content(example_nucleotide_string)\n",
    "```    \n",
    "**Output:**  \n",
    "```python\n",
    "44.44444444444444\n",
    "```"
   ]
  },
  {
   "cell_type": "code",
   "execution_count": 7,
   "metadata": {},
   "outputs": [],
   "source": [
    "from Bio import SeqUtils\n",
    "def gc_content(string_nucleotides):\n",
    "    \"\"\"Description: calculates the GC content of a given nucleotide sequence percent.\n",
    "    \n",
    "    Parameters:\n",
    "        string_nucleotides : string of nucleotides to be measured\n",
    "        \n",
    "    Return: percent GC of provided nucleotide sequence as a floating point number\n",
    "    \n",
    "    Example of usage:\n",
    "        >> example_nucleotide_string = \"ATGTTTGGGAAACCCAGA\"\n",
    "        >> gc_content(example_nucleotide_string)\n",
    "        \n",
    "        Ouput:\n",
    "            44.44444444444444\n",
    "    \"\"\"\n",
    "    return (SeqUtils.GC(string_nucleotides))"
   ]
  },
  {
   "cell_type": "markdown",
   "metadata": {},
   "source": [
    "# Main Script"
   ]
  },
  {
   "cell_type": "code",
   "execution_count": 88,
   "metadata": {},
   "outputs": [],
   "source": [
    "cytb_seqs = get_sequences_from_file(\"penguins_cytb.fasta\")\n",
    "penguins_df = pd.read_csv(\"penguins_mass.csv\")\n",
    "species_list = list(penguins_df.species)"
   ]
  },
  {
   "cell_type": "markdown",
   "metadata": {},
   "source": [
    "Make a copy of `penguins_df` called `penguins_NC_df` so as not to alter the original dataframe."
   ]
  },
  {
   "cell_type": "code",
   "execution_count": 89,
   "metadata": {},
   "outputs": [
    {
     "data": {
      "text/html": [
       "<div>\n",
       "<style scoped>\n",
       "    .dataframe tbody tr th:only-of-type {\n",
       "        vertical-align: middle;\n",
       "    }\n",
       "\n",
       "    .dataframe tbody tr th {\n",
       "        vertical-align: top;\n",
       "    }\n",
       "\n",
       "    .dataframe thead th {\n",
       "        text-align: right;\n",
       "    }\n",
       "</style>\n",
       "<table border=\"1\" class=\"dataframe\">\n",
       "  <thead>\n",
       "    <tr style=\"text-align: right;\">\n",
       "      <th></th>\n",
       "      <th>species</th>\n",
       "      <th>mass</th>\n",
       "    </tr>\n",
       "  </thead>\n",
       "  <tbody>\n",
       "    <tr>\n",
       "      <td>0</td>\n",
       "      <td>Aptenodytes forsteri</td>\n",
       "      <td>28.00</td>\n",
       "    </tr>\n",
       "    <tr>\n",
       "      <td>1</td>\n",
       "      <td>Aptenodytes patagonicus</td>\n",
       "      <td>13.40</td>\n",
       "    </tr>\n",
       "    <tr>\n",
       "      <td>2</td>\n",
       "      <td>Eudyptes chrysocome</td>\n",
       "      <td>2.80</td>\n",
       "    </tr>\n",
       "    <tr>\n",
       "      <td>3</td>\n",
       "      <td>Eudyptes chrysolophus</td>\n",
       "      <td>4.50</td>\n",
       "    </tr>\n",
       "    <tr>\n",
       "      <td>4</td>\n",
       "      <td>Eudyptes sclateri</td>\n",
       "      <td>4.25</td>\n",
       "    </tr>\n",
       "    <tr>\n",
       "      <td>5</td>\n",
       "      <td>Eudyptula minor</td>\n",
       "      <td>1.60</td>\n",
       "    </tr>\n",
       "    <tr>\n",
       "      <td>6</td>\n",
       "      <td>Pygoscelis adeliae</td>\n",
       "      <td>4.60</td>\n",
       "    </tr>\n",
       "    <tr>\n",
       "      <td>7</td>\n",
       "      <td>Pygoscelis antarctica</td>\n",
       "      <td>4.10</td>\n",
       "    </tr>\n",
       "    <tr>\n",
       "      <td>8</td>\n",
       "      <td>Pygoscelis papua</td>\n",
       "      <td>6.10</td>\n",
       "    </tr>\n",
       "    <tr>\n",
       "      <td>9</td>\n",
       "      <td>Spheniscus demersus</td>\n",
       "      <td>3.20</td>\n",
       "    </tr>\n",
       "    <tr>\n",
       "      <td>10</td>\n",
       "      <td>Spheniscus humboldti</td>\n",
       "      <td>4.75</td>\n",
       "    </tr>\n",
       "    <tr>\n",
       "      <td>11</td>\n",
       "      <td>Spheniscus magellanicus</td>\n",
       "      <td>3.40</td>\n",
       "    </tr>\n",
       "  </tbody>\n",
       "</table>\n",
       "</div>"
      ],
      "text/plain": [
       "                    species   mass\n",
       "0      Aptenodytes forsteri  28.00\n",
       "1   Aptenodytes patagonicus  13.40\n",
       "2       Eudyptes chrysocome   2.80\n",
       "3     Eudyptes chrysolophus   4.50\n",
       "4         Eudyptes sclateri   4.25\n",
       "5           Eudyptula minor   1.60\n",
       "6        Pygoscelis adeliae   4.60\n",
       "7     Pygoscelis antarctica   4.10\n",
       "8          Pygoscelis papua   6.10\n",
       "9       Spheniscus demersus   3.20\n",
       "10     Spheniscus humboldti   4.75\n",
       "11  Spheniscus magellanicus   3.40"
      ]
     },
     "execution_count": 89,
     "metadata": {},
     "output_type": "execute_result"
    }
   ],
   "source": [
    "penguins_NC_df = penguins_df.copy()\n",
    "penguins_NC_df"
   ]
  },
  {
   "cell_type": "markdown",
   "metadata": {},
   "source": [
    "Add columns `molecular_weight` and `GC_content` to `penguins_NC_df`"
   ]
  },
  {
   "cell_type": "code",
   "execution_count": 90,
   "metadata": {},
   "outputs": [],
   "source": [
    "penguins_NC_df['molecular_weight'] = 'NaN'\n",
    "penguins_NC_df['GC_content'] = 'NaN'"
   ]
  },
  {
   "cell_type": "markdown",
   "metadata": {},
   "source": [
    "For every value of every key in the `cytb_seqs` dictionary, calculate the amino acid translation and GC content of the sequence and the molecular weight of the translated amino acid sequence. Update the appropriate cells of the `penguins_NC_df` dataframe."
   ]
  },
  {
   "cell_type": "code",
   "execution_count": 94,
   "metadata": {},
   "outputs": [],
   "source": [
    "for key, value in cytb_seqs.items():\n",
    "    aa_seq = alt_translate_funciton(str(value)) #translate the nucleotide sequence to an amino acid sequence\n",
    "    molWeight = compute_molecular_weight(aa_seq) #calculate molecular weight of amino acid sequence\n",
    "    gcContent = gc_content(value) #calculate GC content of nucleotide squence\n",
    "    penguins_NC_df.loc[penguins_NC_df.species == key,'molecular_weight'] = molWeight #update molecular_weight value of current species\n",
    "    penguins_NC_df.loc[penguins_NC_df.species == key,'GC_content'] = gcContent #update GC_content value of current species"
   ]
  },
  {
   "cell_type": "code",
   "execution_count": 107,
   "metadata": {},
   "outputs": [
    {
     "data": {
      "text/html": [
       "<div>\n",
       "<style scoped>\n",
       "    .dataframe tbody tr th:only-of-type {\n",
       "        vertical-align: middle;\n",
       "    }\n",
       "\n",
       "    .dataframe tbody tr th {\n",
       "        vertical-align: top;\n",
       "    }\n",
       "\n",
       "    .dataframe thead th {\n",
       "        text-align: right;\n",
       "    }\n",
       "</style>\n",
       "<table border=\"1\" class=\"dataframe\">\n",
       "  <thead>\n",
       "    <tr style=\"text-align: right;\">\n",
       "      <th></th>\n",
       "      <th>species</th>\n",
       "      <th>mass</th>\n",
       "      <th>molecular_weight</th>\n",
       "      <th>GC_content</th>\n",
       "    </tr>\n",
       "  </thead>\n",
       "  <tbody>\n",
       "    <tr>\n",
       "      <td>0</td>\n",
       "      <td>Aptenodytes forsteri</td>\n",
       "      <td>28.00</td>\n",
       "      <td>42459.6</td>\n",
       "      <td>48.3815</td>\n",
       "    </tr>\n",
       "    <tr>\n",
       "      <td>1</td>\n",
       "      <td>Aptenodytes patagonicus</td>\n",
       "      <td>13.40</td>\n",
       "      <td>42563.7</td>\n",
       "      <td>49.6938</td>\n",
       "    </tr>\n",
       "    <tr>\n",
       "      <td>2</td>\n",
       "      <td>Eudyptes chrysocome</td>\n",
       "      <td>2.80</td>\n",
       "      <td>42475.6</td>\n",
       "      <td>51.1811</td>\n",
       "    </tr>\n",
       "    <tr>\n",
       "      <td>3</td>\n",
       "      <td>Eudyptes chrysolophus</td>\n",
       "      <td>4.50</td>\n",
       "      <td>42445.5</td>\n",
       "      <td>50.9186</td>\n",
       "    </tr>\n",
       "    <tr>\n",
       "      <td>4</td>\n",
       "      <td>Eudyptes sclateri</td>\n",
       "      <td>4.25</td>\n",
       "      <td>42475.6</td>\n",
       "      <td>50.8311</td>\n",
       "    </tr>\n",
       "    <tr>\n",
       "      <td>5</td>\n",
       "      <td>Eudyptula minor</td>\n",
       "      <td>1.60</td>\n",
       "      <td>42491.6</td>\n",
       "      <td>49.2563</td>\n",
       "    </tr>\n",
       "    <tr>\n",
       "      <td>6</td>\n",
       "      <td>Pygoscelis adeliae</td>\n",
       "      <td>4.60</td>\n",
       "      <td>42458.6</td>\n",
       "      <td>49.0814</td>\n",
       "    </tr>\n",
       "    <tr>\n",
       "      <td>7</td>\n",
       "      <td>Pygoscelis antarctica</td>\n",
       "      <td>4.10</td>\n",
       "      <td>42404.5</td>\n",
       "      <td>47.769</td>\n",
       "    </tr>\n",
       "    <tr>\n",
       "      <td>8</td>\n",
       "      <td>Pygoscelis papua</td>\n",
       "      <td>6.10</td>\n",
       "      <td>42595.9</td>\n",
       "      <td>47.1566</td>\n",
       "    </tr>\n",
       "    <tr>\n",
       "      <td>9</td>\n",
       "      <td>Spheniscus demersus</td>\n",
       "      <td>3.20</td>\n",
       "      <td>42431.5</td>\n",
       "      <td>48.294</td>\n",
       "    </tr>\n",
       "    <tr>\n",
       "      <td>10</td>\n",
       "      <td>Spheniscus humboldti</td>\n",
       "      <td>4.75</td>\n",
       "      <td>42399.6</td>\n",
       "      <td>49.2563</td>\n",
       "    </tr>\n",
       "    <tr>\n",
       "      <td>11</td>\n",
       "      <td>Spheniscus magellanicus</td>\n",
       "      <td>3.40</td>\n",
       "      <td>42459.6</td>\n",
       "      <td>48.2065</td>\n",
       "    </tr>\n",
       "  </tbody>\n",
       "</table>\n",
       "</div>"
      ],
      "text/plain": [
       "                    species   mass molecular_weight GC_content\n",
       "0      Aptenodytes forsteri  28.00          42459.6    48.3815\n",
       "1   Aptenodytes patagonicus  13.40          42563.7    49.6938\n",
       "2       Eudyptes chrysocome   2.80          42475.6    51.1811\n",
       "3     Eudyptes chrysolophus   4.50          42445.5    50.9186\n",
       "4         Eudyptes sclateri   4.25          42475.6    50.8311\n",
       "5           Eudyptula minor   1.60          42491.6    49.2563\n",
       "6        Pygoscelis adeliae   4.60          42458.6    49.0814\n",
       "7     Pygoscelis antarctica   4.10          42404.5     47.769\n",
       "8          Pygoscelis papua   6.10          42595.9    47.1566\n",
       "9       Spheniscus demersus   3.20          42431.5     48.294\n",
       "10     Spheniscus humboldti   4.75          42399.6    49.2563\n",
       "11  Spheniscus magellanicus   3.40          42459.6    48.2065"
      ]
     },
     "execution_count": 107,
     "metadata": {},
     "output_type": "execute_result"
    }
   ],
   "source": [
    "penguins_NC_df"
   ]
  },
  {
   "cell_type": "markdown",
   "metadata": {},
   "source": [
    "## Some graphs of things"
   ]
  },
  {
   "cell_type": "markdown",
   "metadata": {},
   "source": [
    "**A bar graph showing the mass of each species:**"
   ]
  },
  {
   "cell_type": "code",
   "execution_count": 106,
   "metadata": {},
   "outputs": [
    {
     "data": {
      "text/plain": [
       "<matplotlib.axes._subplots.AxesSubplot at 0x7f721d27ba90>"
      ]
     },
     "execution_count": 106,
     "metadata": {},
     "output_type": "execute_result"
    },
    {
     "data": {
      "image/png": "[encoded data removed]",
      "text/plain": [
       "<Figure size 432x288 with 1 Axes>"
      ]
     },
     "metadata": {
      "needs_background": "light"
     },
     "output_type": "display_data"
    }
   ],
   "source": [
    "sns.barplot(x = \"mass\", y = \"species\", data = penguins_NC_df)"
   ]
  },
  {
   "cell_type": "markdown",
   "metadata": {},
   "source": [
    "1. What is the smallest penguin species?  \n",
    "  + *Eudyptula minor*\n",
    "2. What else is interesting about this species?  \n",
    "  + Not sure what you're looking for here..."
   ]
  },
  {
   "cell_type": "markdown",
   "metadata": {},
   "source": [
    "**A scatter plot of GC content v.s. molecular weight**"
   ]
  },
  {
   "cell_type": "code",
   "execution_count": 110,
   "metadata": {},
   "outputs": [
    {
     "data": {
      "text/plain": [
       "<seaborn.axisgrid.FacetGrid at 0x7f721d71a510>"
      ]
     },
     "execution_count": 110,
     "metadata": {},
     "output_type": "execute_result"
    },
    {
     "data": {
      "image/png": "[encoded data removed]",
      "text/plain": [
       "<Figure size 523.25x360 with 1 Axes>"
      ]
     },
     "metadata": {
      "needs_background": "light"
     },
     "output_type": "display_data"
    }
   ],
   "source": [
    "sns.lmplot(x = \"GC_content\", y = \"molecular_weight\", hue = \"species\", data = penguins_NC_df, fit_reg = False)"
   ]
  },
  {
   "cell_type": "markdown",
   "metadata": {},
   "source": [
    "**Writing the new `penguins_NC_df` dataframe to a new `.csv` file.**"
   ]
  },
  {
   "cell_type": "code",
   "execution_count": 112,
   "metadata": {},
   "outputs": [],
   "source": [
    "penguins_NC_df.to_csv(\"penguins_mass_cytb.csv\",index=False)"
   ]
  }
 ],
 "metadata": {
  "kernelspec": {
   "display_name": "Python 3",
   "language": "python",
   "name": "python3"
  },
  "language_info": {
   "codemirror_mode": {
    "name": "ipython",
    "version": 3
   },
   "file_extension": ".py",
   "mimetype": "text/x-python",
   "name": "python",
   "nbconvert_exporter": "python",
   "pygments_lexer": "ipython3",
   "version": "3.6.8"
  }
 },
 "nbformat": 4,
 "nbformat_minor": 2
}
